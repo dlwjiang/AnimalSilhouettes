{
 "metadata": {
  "name": "Animal Shapes"
 },
 "nbformat": 3,
 "nbformat_minor": 0,
 "worksheets": [
  {
   "cells": [
    {
     "cell_type": "code",
     "collapsed": false,
     "input": [
      "\"\"\"\n",
      "Modern Analytics Final Project\n",
      "\n",
      "prof:    Serge Belongie\n",
      "\n",
      "authors: David Jiang & Alfred Nelson\n",
      "\n",
      "=====================================\n",
      "Comparison of Classification of Animal Silhouettes using Various Machine Learning Algorithms\n",
      "Across Ideal and Noisy Datasets.\n",
      "======================================\n",
      "====================================================================================================================\n",
      "====================================================================================================================\n",
      "\n",
      "?:\n",
      "\n",
      "How much accuracy do classifiers retain if they are trained on ideal datasets and tested\n",
      "on noisy datasets?\n",
      "\n",
      "\"\"\"\n",
      "\n",
      "\n",
      "'''\n",
      "basic imports\n",
      "'''\n",
      "import matplotlib.pyplot as plt\n",
      "import numpy as np\n",
      "import glob\n",
      "from numpy import savetxt\n",
      "import csv\n",
      "import Image\n",
      "import scipy.misc\n",
      "from scipy.stats import mode\n",
      "from sklearn.ensemble import RandomForestClassifier\n",
      "from sklearn.naive_bayes import MultinomialNB\n",
      "from sklearn.neighbors import KNeighborsClassifier\n",
      "from sklearn import cross_validation\n",
      "\n"
     ],
     "language": "python",
     "metadata": {},
     "outputs": [],
     "prompt_number": 24
    },
    {
     "cell_type": "code",
     "collapsed": false,
     "input": [
      "'''\n",
      "helper functions\n",
      "====================================================================================================================\n",
      "'''\n",
      "\n",
      "'''\n",
      "shows an image given an image in a 2d array form\n",
      "'''\n",
      "def showImage(image):\n",
      "    height = len(image)   #480\n",
      "    width = len(image[0]) #640\n",
      "\n",
      "    img = Image.new( 'L', (width,height)) # create an image\n",
      "    pixels = img.load() # create the pixel map\n",
      "    \n",
      "    for i in range(height-1):\n",
      "        for j in range(width-1):\n",
      "            pixels[j,i] = image[i,j]   \n",
      "        \n",
      "    img.show()\n",
      "    display()\n",
      "\n",
      "'''\n",
      "takes an image file, resizes it and returns in in array form\n",
      "'''\n",
      "def resizeImage(imageFile):\n",
      "    im = Image.open(imageFile)\n",
      "    im = im.resize((500,500), Image.NEAREST)\n",
      "    return np.array(im)\n",
      "\n",
      "'''\n",
      "returns the L2 distance between 2 matrices\n",
      "'''\n",
      "def L2distance(matrix1,matrix2):\n",
      "    return np.linalg.norm(matrix1-matrix2)\n"
     ],
     "language": "python",
     "metadata": {},
     "outputs": [],
     "prompt_number": 14
    },
    {
     "cell_type": "code",
     "collapsed": false,
     "input": [
      "'''\n",
      "will print out thumbnails of all images in a folder\n",
      "====================================================================================================================\n",
      "'''\n",
      "\n",
      "#edit this:\n",
      "animal = 'crocodile'\n",
      "\n",
      "'''\n",
      "Choices:\n",
      "\n",
      "bird, butterfly, cat, cow, crocodile, deer, dog, dolphin, duck, elephant, fish ,flyingbird,\n",
      "hen, horse, leopard, monkey, rabbit, rat, spider, tortoise\n",
      "'''\n",
      "\n",
      "totalNum = len(glob.glob('animals/' + animal + '/*.tif'))\n",
      "\n",
      "#calculate height based on width of 10 images\n",
      "width  = 10\n",
      "height = totalNum / 10 \n",
      "\n",
      "#create plot\n",
      "f, thumbs = plt.subplots(height,width)\n",
      "\n",
      "count = 0\n",
      "xPos = 0\n",
      "\n",
      "for eachFile in glob.glob('animals/' + animal + '/*.tif'): \n",
      "    \n",
      "    #im = open_image(eachFile)\n",
      "    im = Image.open(eachFile)\n",
      "    #resize it\n",
      "    im = im.resize((500,500), Image.NEAREST) \n",
      "\n",
      "    if (count % 10 == 0 and count != 0):\n",
      "        xPos += 1\n",
      "    yPos = count % width\n",
      "    \n",
      "    #fill in plot\n",
      "    thumbs[xPos][yPos].imshow(im).set_cmap('hot')\n",
      "    \n",
      "    #remove x and y axis ticks and labels\n",
      "    thumbs[xPos][yPos].xaxis.set_visible(False)\n",
      "    thumbs[xPos][yPos].yaxis.set_visible(False)\n",
      "    \n",
      "    count += 1\n",
      "   \n",
      "display()\n"
     ],
     "language": "python",
     "metadata": {},
     "outputs": [
      {
       "output_type": "display_data",
       "png": "[encoded data removed]",
       "text": [
        "<matplotlib.figure.Figure at 0x10a21ba90>"
       ]
      }
     ],
     "prompt_number": 12
    },
    {
     "cell_type": "code",
     "collapsed": false,
     "input": [
      "'''\n",
      "will print out thumbnails of all images in a folder\n",
      "====================================================================================================================\n",
      "'''\n",
      "\n",
      "#edit this:\n",
      "animal = 'spider'\n",
      "\n",
      "'''\n",
      "Choices:\n",
      "\n",
      "bird, butterfly, cat, cow, crocodile, deer, dog, dolphin, duck, elephant, fish ,flyingbird,\n",
      "hen, horse, leopard, monkey, rabbit, rat, spider, tortoise\n",
      "'''\n",
      "\n",
      "totalNum = len(glob.glob('animals/' + animal + '/*.tif'))\n",
      "\n",
      "#calculate height based on width of 10 images\n",
      "width  = 10\n",
      "height = totalNum / 10 \n",
      "\n",
      "#create plot\n",
      "f, thumbs = plt.subplots(height,width)\n",
      "\n",
      "count = 0\n",
      "xPos = 0\n",
      "\n",
      "for eachFile in glob.glob('animals/' + animal + '/*.tif'): \n",
      "    \n",
      "    #im = open_image(eachFile)\n",
      "    im = Image.open(eachFile)\n",
      "    #resize it\n",
      "    im = im.resize((500,500), Image.NEAREST) \n",
      "\n",
      "    if (count % 10 == 0 and count != 0):\n",
      "        xPos += 1\n",
      "    yPos = count % width\n",
      "    \n",
      "    #fill in plot\n",
      "    thumbs[xPos][yPos].imshow(im).set_cmap('hot')\n",
      "    \n",
      "    #remove x and y axis ticks and labels\n",
      "    thumbs[xPos][yPos].xaxis.set_visible(False)\n",
      "    thumbs[xPos][yPos].yaxis.set_visible(False)\n",
      "    \n",
      "    count += 1\n",
      "   \n",
      "display()\n"
     ],
     "language": "python",
     "metadata": {},
     "outputs": [
      {
       "output_type": "display_data",
       "png": "[encoded data removed]",
       "text": [
        "<matplotlib.figure.Figure at 0x10e1fc310>"
       ]
      }
     ],
     "prompt_number": 122
    },
    {
     "cell_type": "code",
     "collapsed": false,
     "input": [],
     "language": "python",
     "metadata": {},
     "outputs": []
    },
    {
     "cell_type": "code",
     "collapsed": false,
     "input": [
      "'''\n",
      "create a testing set\n",
      "====================================================================================================================\n",
      "'''\n",
      "testSet = []\n",
      "for eachFolder in glob.glob('animals/*'): \n",
      "    \n",
      "    count = 0\n",
      "    for eachFile in glob.glob(eachFolder + '/*.tif'):\n",
      "        #take the last 4 out of each folderfor the test set\n",
      "        if (count > 95):\n",
      "            testSet.append(resizeImage(eachFile))\n",
      "        count += 1\n",
      "    \n",
      "print len(testSet)\n",
      "print testSet[0]\n",
      "#showImage(testSet[0])\n",
      "\n",
      "print L2distance(testSet[0],testSet[50])\n"
     ],
     "language": "python",
     "metadata": {},
     "outputs": [
      {
       "output_type": "stream",
       "stream": "stdout",
       "text": [
        "80\n",
        "[[0 0 0 ..., 0 0 0]\n",
        " [0 0 0 ..., 0 0 0]\n",
        " [0 0 0 ..., 0 0 0]\n",
        " ..., \n",
        " [0 0 0 ..., 0 0 0]\n",
        " [0 0 0 ..., 0 0 0]\n",
        " [0 0 0 ..., 0 0 0]]\n",
        "211.577409002\n"
       ]
      }
     ],
     "prompt_number": 15
    },
    {
     "cell_type": "code",
     "collapsed": false,
     "input": [
      "print len(testSet)\n",
      "testSetFlat = []\n",
      "for i in range(len(testSet)):\n",
      "    testSetFlat.append(testSet[i].flatten())\n",
      "print len(testSetFlat)"
     ],
     "language": "python",
     "metadata": {},
     "outputs": [
      {
       "output_type": "stream",
       "stream": "stdout",
       "text": [
        "80\n",
        "80"
       ]
      },
      {
       "output_type": "stream",
       "stream": "stdout",
       "text": [
        "\n"
       ]
      }
     ],
     "prompt_number": 16
    },
    {
     "cell_type": "code",
     "collapsed": false,
     "input": [
      "'''\n",
      "dictionary of animals\n",
      "====================================================================================================================\n",
      "'''\n",
      "animalsDict = {0:'bird', 1:'butterfly',2:'cat',3:'cow',4:'crocodile',5:'deer',6:'dog',7:'dolphin',8:'duck',9:'elephant',\n",
      "10:'fish',11:'flyingbird',12:'hen',13:'horse',14:'leopard',15:'monkey',16:'rabbit',17:'rat',18:'spider',19:'tortoise',20:'noisy'}\n",
      "\n",
      "for i in range(20):\n",
      "    print animalsDict[i],"
     ],
     "language": "python",
     "metadata": {},
     "outputs": [
      {
       "output_type": "stream",
       "stream": "stdout",
       "text": [
        "bird butterfly cat cow crocodile deer dog dolphin duck elephant fish flyingbird hen horse leopard monkey rabbit rat spider tortoise\n"
       ]
      }
     ],
     "prompt_number": 39
    },
    {
     "cell_type": "code",
     "collapsed": false,
     "input": [
      "'''\n",
      "generate target and training sets\n",
      "====================================================================================================================\n",
      "'''\n",
      "\n",
      "train  = []\n",
      "target = []\n",
      "\n",
      "folderCount = 0\n",
      "for eachFolder in glob.glob('animals/*'): \n",
      "    \n",
      "    count = 0\n",
      "    for eachFile in glob.glob(eachFolder + '/*.tif'):\n",
      "        #take a subset to train\n",
      "        if (count > 40 and count <= 95):\n",
      "            train.append(resizeImage(eachFile))\n",
      "            target.append(folderCount)\n",
      "        count += 1\n",
      "        \n",
      "    folderCount += 1\n",
      "    \n"
     ],
     "language": "python",
     "metadata": {},
     "outputs": [],
     "prompt_number": 17
    },
    {
     "cell_type": "code",
     "collapsed": false,
     "input": [
      "'''\n",
      "flatten training set, most classifier expect data in 1D array, not 2D array\n",
      "====================================================================================================================\n",
      "'''\n",
      "\n",
      "trainFlat = []\n",
      "\n",
      "for i in range(len(train)):\n",
      "    trainFlat.append(train[i].flatten())"
     ],
     "language": "python",
     "metadata": {},
     "outputs": [],
     "prompt_number": 18
    },
    {
     "cell_type": "code",
     "collapsed": false,
     "input": [
      "print len(train)\n",
      "print len(target)\n",
      "print len(trainFlat)"
     ],
     "language": "python",
     "metadata": {},
     "outputs": [
      {
       "output_type": "stream",
       "stream": "stdout",
       "text": [
        "1100\n",
        "1100\n",
        "1100\n"
       ]
      }
     ],
     "prompt_number": 19
    },
    {
     "cell_type": "code",
     "collapsed": false,
     "input": [
      "rf = RandomForestClassifier()"
     ],
     "language": "python",
     "metadata": {},
     "outputs": [],
     "prompt_number": 10
    },
    {
     "cell_type": "code",
     "collapsed": false,
     "input": [
      "rf.fit(trainFlat, target)"
     ],
     "language": "python",
     "metadata": {},
     "outputs": [
      {
       "output_type": "pyout",
       "prompt_number": 19,
       "text": [
        "RandomForestClassifier(bootstrap=True, compute_importances=False,\n",
        "            criterion='gini', max_depth=None, max_features='auto',\n",
        "            min_density=0.1, min_samples_leaf=1, min_samples_split=1,\n",
        "            n_estimators=10, n_jobs=1, oob_score=False,\n",
        "            random_state=<mtrand.RandomState object at 0x10b10d4c8>,\n",
        "            verbose=0)"
       ]
      }
     ],
     "prompt_number": 19
    },
    {
     "cell_type": "code",
     "collapsed": false,
     "input": [
      "predictions = rf.predict(testSetFlat)\n",
      "print predictions\n",
      "print len(predictions)\n",
      "    "
     ],
     "language": "python",
     "metadata": {},
     "outputs": [
      {
       "output_type": "stream",
       "stream": "stdout",
       "text": [
        "[11  0  1  0 16  1  1  4  0  2 19  2 15  0 12  3  1  1  4 17 11  5 11  5 13\n",
        "  5  5  9  4  0  7  3 16 12  8 16  2 14  5  9 19 19 10  2  5  7  5  0 17 12\n",
        "  5  1 13 13 13 13  6 11  9  9  8 16  7  2  1  5 16  2  0  5  3  3 11  7 14\n",
        "  5 19 10 19  4]\n",
        "80\n"
       ]
      }
     ],
     "prompt_number": 20
    },
    {
     "cell_type": "code",
     "collapsed": false,
     "input": [
      "'''\n",
      "generate solution set\n",
      "====================================================================================================================\n",
      "'''\n",
      "solutions = []\n",
      "for i in range(20):\n",
      "    for x in range(4):\n",
      "        solutions.append(i)\n",
      "    \n",
      "print solutions"
     ],
     "language": "python",
     "metadata": {},
     "outputs": [
      {
       "output_type": "stream",
       "stream": "stdout",
       "text": [
        "[0, 0, 0, 0, 1, 1, 1, 1, 2, 2, 2, 2, 3, 3, 3, 3, 4, 4, 4, 4, 5, 5, 5, 5, 6, 6, 6, 6, 7, 7, 7, 7, 8, 8, 8, 8, 9, 9, 9, 9, 10, 10, 10, 10, 11, 11, 11, 11, 12, 12, 12, 12, 13, 13, 13, 13, 14, 14, 14, 14, 15, 15, 15, 15, 16, 16, 16, 16, 17, 17, 17, 17, 18, 18, 18, 18, 19, 19, 19, 19]\n"
       ]
      }
     ],
     "prompt_number": 30
    },
    {
     "cell_type": "code",
     "collapsed": true,
     "input": [
      "def checkSolutions(predictions, solutions):\n",
      "    length = len(predictions)\n",
      "    total = 0\n",
      "    correct = 0\n",
      "    for i in range(length):\n",
      "\n",
      "        total += 1\n",
      "        if ( predictions[i] == solutions[i] ):\n",
      "            correct += 1\n",
      "        else:\n",
      "            #print only incorrect answers\n",
      "            print \"Predicted %s to be a %s\" % (animalsDict[solutions[i]],animalsDict[predictions[i]])\n",
      "    \n",
      "    print correct\n",
      "    print total\n",
      "    print \"You have an accuracy of %f!\" % ( float(correct)/total )\n",
      "    \n",
      "checkSolutions(predictions,solutions)  \n",
      "#random guess would have accuracy of 5%\n",
      "#random forest has an accuracy of 36%\n",
      "\n",
      "\"\"\"\n",
      "observation of errors seems to be mostly due to size of animal relative to frame.\n",
      "\n",
      "e.g. a cat in a 500x500 frame is the same size as an elephant, the black & white silhouettes do not\n",
      "allow enough differentiation. \n",
      "\n",
      "When silhouettes are taken to the extreme, defining details such as ears\n",
      "and feet may disappear and everything becomes an amorphous blob.\n",
      "\"\"\""
     ],
     "language": "python",
     "metadata": {},
     "outputs": [
      {
       "ename": "NameError",
       "evalue": "name 'predictions' is not defined",
       "output_type": "pyerr",
       "traceback": [
        "\u001b[0;31m---------------------------------------------------------------------------\u001b[0m\n\u001b[0;31mNameError\u001b[0m                                 Traceback (most recent call last)",
        "\u001b[0;32m<ipython-input-40-51f8d2766861>\u001b[0m in \u001b[0;36m<module>\u001b[0;34m()\u001b[0m\n\u001b[1;32m     16\u001b[0m     \u001b[0;32mprint\u001b[0m \u001b[0;34m\"You have an accuracy of %f!\"\u001b[0m \u001b[0;34m%\u001b[0m \u001b[0;34m(\u001b[0m \u001b[0mfloat\u001b[0m\u001b[0;34m(\u001b[0m\u001b[0mcorrect\u001b[0m\u001b[0;34m)\u001b[0m\u001b[0;34m/\u001b[0m\u001b[0mtotal\u001b[0m \u001b[0;34m)\u001b[0m\u001b[0;34m\u001b[0m\u001b[0m\n\u001b[1;32m     17\u001b[0m \u001b[0;34m\u001b[0m\u001b[0m\n\u001b[0;32m---> 18\u001b[0;31m \u001b[0mcheckSolutions\u001b[0m\u001b[0;34m(\u001b[0m\u001b[0mpredictions\u001b[0m\u001b[0;34m,\u001b[0m\u001b[0msolutions\u001b[0m\u001b[0;34m)\u001b[0m\u001b[0;34m\u001b[0m\u001b[0m\n\u001b[0m\u001b[1;32m     19\u001b[0m \u001b[0;31m#random guess would have accuracy of 5%\u001b[0m\u001b[0;34m\u001b[0m\u001b[0;34m\u001b[0m\u001b[0m\n\u001b[1;32m     20\u001b[0m \u001b[0;31m#random forest has an accuracy of 36%\u001b[0m\u001b[0;34m\u001b[0m\u001b[0;34m\u001b[0m\u001b[0m\n",
        "\u001b[0;31mNameError\u001b[0m: name 'predictions' is not defined"
       ]
      }
     ],
     "prompt_number": 40
    },
    {
     "cell_type": "code",
     "collapsed": false,
     "input": [
      "'''\n",
      "cross validating Random Forest\n",
      "====================================================================================================================\n",
      "'''\n",
      "\n",
      "scores = cross_validation.cross_val_score(rf, np.array(trainFlat), np.array(target), cv=3)\n",
      "print scores\n",
      "# 0.28065395  0.23160763  0.23224044"
     ],
     "language": "python",
     "metadata": {},
     "outputs": [
      {
       "output_type": "stream",
       "stream": "stdout",
       "text": [
        "[ 0.26158038  0.23160763  0.24043716]\n"
       ]
      }
     ],
     "prompt_number": 23
    },
    {
     "cell_type": "code",
     "collapsed": false,
     "input": [
      "print(\"Accuracy: %0.2f (+/- %0.2f)\" % (scores.mean(), scores.std() / 2))\n",
      "#Accuracy: 0.24 (+/- 0.01)"
     ],
     "language": "python",
     "metadata": {},
     "outputs": [
      {
       "output_type": "stream",
       "stream": "stdout",
       "text": [
        "Accuracy: 0.24 (+/- 0.01)\n"
       ]
      }
     ],
     "prompt_number": 24
    },
    {
     "cell_type": "code",
     "collapsed": false,
     "input": [
      "nb = MultinomialNB()\n",
      "nb.fit(trainFlat,target)"
     ],
     "language": "python",
     "metadata": {},
     "outputs": [
      {
       "output_type": "pyout",
       "prompt_number": 55,
       "text": [
        "MultinomialNB(alpha=1.0, fit_prior=True)"
       ]
      }
     ],
     "prompt_number": 55
    },
    {
     "cell_type": "code",
     "collapsed": false,
     "input": [
      "predictionsNaiveBayes = nb.predict(testSetFlat)\n",
      "print predictionsNaiveBayes\n",
      "\n",
      "#Naive Bayes has an accuracy of around 25%, worse than Random forest"
     ],
     "language": "python",
     "metadata": {},
     "outputs": [
      {
       "output_type": "stream",
       "stream": "stdout",
       "text": [
        "[12  0  0  0  0  1  0  1  0  2 19 16 17 14  9  3  1 16  4 19 13  0 18  3 12\n",
        "  9  5  9  4  7  7 17 16 15  0 16 14 13  7 17 19  0  4  3  0  0 18  7 10 12\n",
        "  0  1 13 13 13 13  4 11  3  0  2  0  6  3  1 18 16 16  7  4 18  3 14  7  0\n",
        " 18 19 19  8 18]\n"
       ]
      }
     ],
     "prompt_number": 25
    },
    {
     "cell_type": "code",
     "collapsed": false,
     "input": [
      "scores = cross_validation.cross_val_score(nb, np.array(trainFlat), np.array(target), cv=3)\n",
      "print scores\n",
      "#0.24250681  0.25613079  0.23770492"
     ],
     "language": "python",
     "metadata": {},
     "outputs": [
      {
       "output_type": "stream",
       "stream": "stdout",
       "text": [
        "[ 0.24250681  0.25613079  0.23770492]\n"
       ]
      }
     ],
     "prompt_number": 15
    },
    {
     "cell_type": "code",
     "collapsed": false,
     "input": [
      "print(\"Accuracy: %0.2f (+/- %0.2f)\" % (scores.mean(), scores.std() / 2))\n",
      "#Accuracy: 0.25 (+/- 0.00)"
     ],
     "language": "python",
     "metadata": {},
     "outputs": [
      {
       "output_type": "stream",
       "stream": "stdout",
       "text": [
        "Accuracy: 0.25 (+/- 0.00)\n"
       ]
      }
     ],
     "prompt_number": 21
    },
    {
     "cell_type": "code",
     "collapsed": true,
     "input": [
      "checkSolutions(predictionsNaiveBayes,solutions)"
     ],
     "language": "python",
     "metadata": {},
     "outputs": [
      {
       "output_type": "stream",
       "stream": "stdout",
       "text": [
        "Predicted bird to be a hen\n",
        "Predicted butterfly to be a bird\n",
        "Predicted butterfly to be a bird\n",
        "Predicted cat to be a bird\n",
        "Predicted cat to be a tortoise\n",
        "Predicted cat to be a rabbit\n",
        "Predicted cow to be a rat\n",
        "Predicted cow to be a leopard\n",
        "Predicted cow to be a elephant\n",
        "Predicted crocodile to be a butterfly\n",
        "Predicted crocodile to be a rabbit\n",
        "Predicted crocodile to be a tortoise\n",
        "Predicted deer to be a horse\n",
        "Predicted deer to be a bird\n",
        "Predicted deer to be a spider\n",
        "Predicted deer to be a cow\n",
        "Predicted dog to be a hen\n",
        "Predicted dog to be a elephant\n",
        "Predicted dog to be a deer\n",
        "Predicted dog to be a elephant\n",
        "Predicted dolphin to be a crocodile\n",
        "Predicted dolphin to be a rat\n",
        "Predicted duck to be a rabbit\n",
        "Predicted duck to be a monkey\n",
        "Predicted duck to be a bird\n",
        "Predicted duck to be a rabbit\n",
        "Predicted elephant to be a leopard\n",
        "Predicted elephant to be a horse\n",
        "Predicted elephant to be a dolphin\n",
        "Predicted elephant to be a rat\n",
        "Predicted fish to be a tortoise\n",
        "Predicted fish to be a bird\n",
        "Predicted fish to be a crocodile\n",
        "Predicted fish to be a cow\n",
        "Predicted flyingbird to be a bird\n",
        "Predicted flyingbird to be a bird\n",
        "Predicted flyingbird to be a spider\n",
        "Predicted flyingbird to be a dolphin\n",
        "Predicted hen to be a fish\n",
        "Predicted hen to be a bird\n",
        "Predicted hen to be a butterfly\n",
        "Predicted leopard to be a crocodile\n",
        "Predicted leopard to be a flyingbird\n",
        "Predicted leopard to be a cow\n",
        "Predicted leopard to be a bird\n",
        "Predicted monkey to be a cat\n",
        "Predicted monkey to be a bird\n",
        "Predicted monkey to be a dog\n",
        "Predicted monkey to be a cow\n",
        "Predicted rabbit to be a butterfly\n",
        "Predicted rabbit to be a spider\n",
        "Predicted rat to be a dolphin\n",
        "Predicted rat to be a crocodile\n",
        "Predicted rat to be a spider\n",
        "Predicted rat to be a cow\n",
        "Predicted spider to be a leopard\n",
        "Predicted spider to be a dolphin\n",
        "Predicted spider to be a bird\n",
        "Predicted tortoise to be a duck\n",
        "Predicted tortoise to be a spider\n",
        "20\n",
        "80\n",
        "You have an accuracy of 0.250000!\n"
       ]
      }
     ],
     "prompt_number": 49
    },
    {
     "cell_type": "code",
     "collapsed": false,
     "input": [
      "\"\"\"\n",
      "KNN\n",
      "\"\"\"\n",
      "knn = KNeighborsClassifier(4)\n",
      "knn.fit(trainFlat,target)"
     ],
     "language": "python",
     "metadata": {},
     "outputs": [
      {
       "output_type": "pyout",
       "prompt_number": 25,
       "text": [
        "KNeighborsClassifier(algorithm='auto', leaf_size=30, n_neighbors=4, p=2,\n",
        "           warn_on_equidistant=True, weights='uniform')"
       ]
      }
     ],
     "prompt_number": 25
    },
    {
     "cell_type": "code",
     "collapsed": false,
     "input": [
      "predictionsKNN = knn.predict(testSetFlat)\n",
      "print predictionsKNN"
     ],
     "language": "python",
     "metadata": {},
     "outputs": [
      {
       "output_type": "stream",
       "stream": "stdout",
       "text": [
        "[12  8  0  0  1  1  1 10  3  2  7  1  2 11 17 20  1 18  4  2 11  5  5  3  5\n",
        "  3  3  6  4  0  7  0  8  8  5 17  9  9  3  9 20  1 10 20  5 11  7  7  2 12\n",
        "  0 12 12  6 13 13  6 12  1  9  3 17  7  3  1  7 17  2  0  4  3  3  0  7  8\n",
        " 11 20  1 20  0]\n"
       ]
      },
      {
       "output_type": "stream",
       "stream": "stderr",
       "text": [
        "/Library/Python/2.7/site-packages/scikit_learn-0.13_git-py2.7-macosx-10.8-intel.egg/sklearn/neighbors/classification.py:131: NeighborsWarning: kneighbors: neighbor k+1 and neighbor k have the same distance: results will be dependent on data order.\n",
        "  neigh_dist, neigh_ind = self.kneighbors(X)\n"
       ]
      }
     ],
     "prompt_number": 41
    },
    {
     "cell_type": "code",
     "collapsed": true,
     "input": [
      "checkSolutions(predictionsKNN,solutions)\n",
      "#You have an accuracy of 0.275000!\n",
      "#KNN has an accuracy of 27.5 percent with 4 neighbors"
     ],
     "language": "python",
     "metadata": {},
     "outputs": [
      {
       "output_type": "stream",
       "stream": "stdout",
       "text": [
        "Predicted bird to be a hen\n",
        "Predicted bird to be a duck\n",
        "Predicted butterfly to be a fish\n",
        "Predicted cat to be a cow\n",
        "Predicted cat to be a dolphin\n",
        "Predicted cat to be a butterfly\n",
        "Predicted cow to be a cat\n",
        "Predicted cow to be a flyingbird\n",
        "Predicted cow to be a rat\n",
        "Predicted cow to be a noisy\n",
        "Predicted crocodile to be a butterfly\n",
        "Predicted crocodile to be a spider\n",
        "Predicted crocodile to be a cat\n",
        "Predicted deer to be a flyingbird\n",
        "Predicted deer to be a cow\n",
        "Predicted dog to be a deer\n",
        "Predicted dog to be a cow\n",
        "Predicted dog to be a cow\n",
        "Predicted dolphin to be a crocodile\n",
        "Predicted dolphin to be a bird\n",
        "Predicted dolphin to be a bird\n",
        "Predicted duck to be a deer\n",
        "Predicted duck to be a rat\n",
        "Predicted elephant to be a cow\n",
        "Predicted fish to be a noisy\n",
        "Predicted fish to be a butterfly\n",
        "Predicted fish to be a noisy\n",
        "Predicted flyingbird to be a deer\n",
        "Predicted flyingbird to be a dolphin\n",
        "Predicted flyingbird to be a dolphin\n",
        "Predicted hen to be a cat\n",
        "Predicted hen to be a bird\n",
        "Predicted horse to be a hen\n",
        "Predicted horse to be a dog\n",
        "Predicted leopard to be a dog\n",
        "Predicted leopard to be a hen\n",
        "Predicted leopard to be a butterfly\n",
        "Predicted leopard to be a elephant\n",
        "Predicted monkey to be a cow\n",
        "Predicted monkey to be a rat\n",
        "Predicted monkey to be a dolphin\n",
        "Predicted monkey to be a cow\n",
        "Predicted rabbit to be a butterfly\n",
        "Predicted rabbit to be a dolphin\n",
        "Predicted rabbit to be a rat\n",
        "Predicted rabbit to be a cat\n",
        "Predicted rat to be a bird\n",
        "Predicted rat to be a crocodile\n",
        "Predicted rat to be a cow\n",
        "Predicted rat to be a cow\n",
        "Predicted spider to be a bird\n",
        "Predicted spider to be a dolphin\n",
        "Predicted spider to be a duck\n",
        "Predicted spider to be a flyingbird\n",
        "Predicted tortoise to be a noisy\n",
        "Predicted tortoise to be a butterfly\n",
        "Predicted tortoise to be a noisy\n",
        "Predicted tortoise to be a bird\n",
        "22\n",
        "80\n",
        "You have an accuracy of 0.275000!\n"
       ]
      }
     ],
     "prompt_number": 42
    },
    {
     "cell_type": "code",
     "collapsed": true,
     "input": [
      "for i in range(20):\n",
      "    thisKNN = KNeighborsClassifier(i+1)\n",
      "    scores = cross_validation.cross_val_score(thisKNN, np.array(trainFlat), np.array(target), cv=3)\n",
      "    print i,scores\n",
      "    print(\"Accuracy: %0.2f (+/- %0.2f)\" % (scores.mean(), scores.std() / 2))\n",
      "\n",
      "#cross validation results show similar accuracies of 30% across all given ranges\n",
      "#collapsed here b/c of long error warnings:\n",
      "'''\n",
      "samples:\n",
      "0 [ 0.31880109  0.30245232  0.28688525]\n",
      "Accuracy: 0.30 (+/- 0.01)\n",
      "\n",
      "1 [ 0.28610354  0.25340599  0.26502732]\n",
      "Accuracy: 0.27 (+/- 0.01)\n",
      "\n",
      "5 [ 0.32970027  0.32425068  0.31967213]\n",
      "Accuracy: 0.32 (+/- 0.00)\n",
      "\n",
      "7 [ 0.34332425  0.3133515   0.33060109]\n",
      "Accuracy: 0.33 (+/- 0.01)\n",
      "\n",
      "'''"
     ],
     "language": "python",
     "metadata": {},
     "outputs": [
      {
       "output_type": "stream",
       "stream": "stdout",
       "text": [
        "0 [ 0.31880109  0.30245232  0.28688525]\n",
        "Accuracy: 0.30 (+/- 0.01)\n",
        "1"
       ]
      },
      {
       "output_type": "stream",
       "stream": "stderr",
       "text": [
        "/Library/Python/2.7/site-packages/scikit_learn-0.13_git-py2.7-macosx-10.8-intel.egg/sklearn/neighbors/classification.py:131: NeighborsWarning: kneighbors: neighbor k+1 and neighbor k have the same distance: results will be dependent on data order.\n",
        "  neigh_dist, neigh_ind = self.kneighbors(X)\n",
        "/Library/Python/2.7/site-packages/scikit_learn-0.13_git-py2.7-macosx-10.8-intel.egg/sklearn/neighbors/classification.py:131: NeighborsWarning: kneighbors: neighbor k+1 and neighbor k have the same distance: results will be dependent on data order.\n",
        "  neigh_dist, neigh_ind = self.kneighbors(X)\n"
       ]
      },
      {
       "output_type": "stream",
       "stream": "stdout",
       "text": [
        " [ 0.28610354  0.25340599  0.26502732]\n",
        "Accuracy: 0.27 (+/- 0.01)\n",
        "2"
       ]
      },
      {
       "output_type": "stream",
       "stream": "stderr",
       "text": [
        "/Library/Python/2.7/site-packages/scikit_learn-0.13_git-py2.7-macosx-10.8-intel.egg/sklearn/neighbors/classification.py:131: NeighborsWarning: kneighbors: neighbor k+1 and neighbor k have the same distance: results will be dependent on data order.\n",
        "  neigh_dist, neigh_ind = self.kneighbors(X)\n",
        "/Library/Python/2.7/site-packages/scikit_learn-0.13_git-py2.7-macosx-10.8-intel.egg/sklearn/neighbors/classification.py:131: NeighborsWarning: kneighbors: neighbor k+1 and neighbor k have the same distance: results will be dependent on data order.\n",
        "  neigh_dist, neigh_ind = self.kneighbors(X)\n"
       ]
      },
      {
       "output_type": "stream",
       "stream": "stdout",
       "text": [
        " [ 0.28882834  0.27792916  0.30054645]\n",
        "Accuracy: 0.29 (+/- 0.00)\n",
        "3"
       ]
      },
      {
       "output_type": "stream",
       "stream": "stdout",
       "text": [
        " [ 0.28882834  0.29972752  0.28415301]\n",
        "Accuracy: 0.29 (+/- 0.00)\n",
        "4"
       ]
      },
      {
       "output_type": "stream",
       "stream": "stderr",
       "text": [
        "/Library/Python/2.7/site-packages/scikit_learn-0.13_git-py2.7-macosx-10.8-intel.egg/sklearn/neighbors/classification.py:131: NeighborsWarning: kneighbors: neighbor k+1 and neighbor k have the same distance: results will be dependent on data order.\n",
        "  neigh_dist, neigh_ind = self.kneighbors(X)\n",
        "/Library/Python/2.7/site-packages/scikit_learn-0.13_git-py2.7-macosx-10.8-intel.egg/sklearn/neighbors/classification.py:131: NeighborsWarning: kneighbors: neighbor k+1 and neighbor k have the same distance: results will be dependent on data order.\n",
        "  neigh_dist, neigh_ind = self.kneighbors(X)\n"
       ]
      },
      {
       "output_type": "stream",
       "stream": "stdout",
       "text": [
        " [ 0.30245232  0.30790191  0.30601093]\n",
        "Accuracy: 0.31 (+/- 0.00)\n",
        "5"
       ]
      },
      {
       "output_type": "stream",
       "stream": "stdout",
       "text": [
        " [ 0.32970027  0.32425068  0.31967213]\n",
        "Accuracy: 0.32 (+/- 0.00)\n",
        "6"
       ]
      },
      {
       "output_type": "stream",
       "stream": "stdout",
       "text": [
        " [ 0.33242507  0.32152589  0.33060109]\n",
        "Accuracy: 0.33 (+/- 0.00)\n",
        "7"
       ]
      },
      {
       "output_type": "stream",
       "stream": "stderr",
       "text": [
        "/Library/Python/2.7/site-packages/scikit_learn-0.13_git-py2.7-macosx-10.8-intel.egg/sklearn/neighbors/classification.py:131: NeighborsWarning: kneighbors: neighbor k+1 and neighbor k have the same distance: results will be dependent on data order.\n",
        "  neigh_dist, neigh_ind = self.kneighbors(X)\n",
        "/Library/Python/2.7/site-packages/scikit_learn-0.13_git-py2.7-macosx-10.8-intel.egg/sklearn/neighbors/classification.py:131: NeighborsWarning: kneighbors: neighbor k+1 and neighbor k have the same distance: results will be dependent on data order.\n",
        "  neigh_dist, neigh_ind = self.kneighbors(X)\n"
       ]
      },
      {
       "output_type": "stream",
       "stream": "stdout",
       "text": [
        " [ 0.34332425  0.3133515   0.33060109]\n",
        "Accuracy: 0.33 (+/- 0.01)\n",
        "8"
       ]
      },
      {
       "ename": "KeyboardInterrupt",
       "evalue": "",
       "output_type": "pyerr",
       "traceback": [
        "\u001b[0;31m---------------------------------------------------------------------------\u001b[0m\n\u001b[0;31mKeyboardInterrupt\u001b[0m                         Traceback (most recent call last)",
        "\u001b[0;32m<ipython-input-44-eb1fbbeabfcd>\u001b[0m in \u001b[0;36m<module>\u001b[0;34m()\u001b[0m\n\u001b[1;32m      1\u001b[0m \u001b[0;32mfor\u001b[0m \u001b[0mi\u001b[0m \u001b[0;32min\u001b[0m \u001b[0mrange\u001b[0m\u001b[0;34m(\u001b[0m\u001b[0;36m20\u001b[0m\u001b[0;34m)\u001b[0m\u001b[0;34m:\u001b[0m\u001b[0;34m\u001b[0m\u001b[0m\n\u001b[1;32m      2\u001b[0m     \u001b[0mthisKNN\u001b[0m \u001b[0;34m=\u001b[0m \u001b[0mKNeighborsClassifier\u001b[0m\u001b[0;34m(\u001b[0m\u001b[0mi\u001b[0m\u001b[0;34m+\u001b[0m\u001b[0;36m1\u001b[0m\u001b[0;34m)\u001b[0m\u001b[0;34m\u001b[0m\u001b[0m\n\u001b[0;32m----> 3\u001b[0;31m     \u001b[0mscores\u001b[0m \u001b[0;34m=\u001b[0m \u001b[0mcross_validation\u001b[0m\u001b[0;34m.\u001b[0m\u001b[0mcross_val_score\u001b[0m\u001b[0;34m(\u001b[0m\u001b[0mthisKNN\u001b[0m\u001b[0;34m,\u001b[0m \u001b[0mnp\u001b[0m\u001b[0;34m.\u001b[0m\u001b[0marray\u001b[0m\u001b[0;34m(\u001b[0m\u001b[0mtrainFlat\u001b[0m\u001b[0;34m)\u001b[0m\u001b[0;34m,\u001b[0m \u001b[0mnp\u001b[0m\u001b[0;34m.\u001b[0m\u001b[0marray\u001b[0m\u001b[0;34m(\u001b[0m\u001b[0mtarget\u001b[0m\u001b[0;34m)\u001b[0m\u001b[0;34m,\u001b[0m \u001b[0mcv\u001b[0m\u001b[0;34m=\u001b[0m\u001b[0;36m3\u001b[0m\u001b[0;34m)\u001b[0m\u001b[0;34m\u001b[0m\u001b[0m\n\u001b[0m\u001b[1;32m      4\u001b[0m     \u001b[0;32mprint\u001b[0m \u001b[0mi\u001b[0m\u001b[0;34m,\u001b[0m\u001b[0mscores\u001b[0m\u001b[0;34m\u001b[0m\u001b[0m\n\u001b[1;32m      5\u001b[0m     \u001b[0;32mprint\u001b[0m\u001b[0;34m(\u001b[0m\u001b[0;34m\"Accuracy: %0.2f (+/- %0.2f)\"\u001b[0m \u001b[0;34m%\u001b[0m \u001b[0;34m(\u001b[0m\u001b[0mscores\u001b[0m\u001b[0;34m.\u001b[0m\u001b[0mmean\u001b[0m\u001b[0;34m(\u001b[0m\u001b[0;34m)\u001b[0m\u001b[0;34m,\u001b[0m \u001b[0mscores\u001b[0m\u001b[0;34m.\u001b[0m\u001b[0mstd\u001b[0m\u001b[0;34m(\u001b[0m\u001b[0;34m)\u001b[0m \u001b[0;34m/\u001b[0m \u001b[0;36m2\u001b[0m\u001b[0;34m)\u001b[0m\u001b[0;34m)\u001b[0m\u001b[0;34m\u001b[0m\u001b[0m\n",
        "\u001b[0;32m/Library/Python/2.7/site-packages/scikit_learn-0.13_git-py2.7-macosx-10.8-intel.egg/sklearn/cross_validation.pyc\u001b[0m in \u001b[0;36mcross_val_score\u001b[0;34m(estimator, X, y, score_func, cv, n_jobs, verbose, fit_params)\u001b[0m\n\u001b[1;32m   1117\u001b[0m             \u001b[0mclone\u001b[0m\u001b[0;34m(\u001b[0m\u001b[0mestimator\u001b[0m\u001b[0;34m)\u001b[0m\u001b[0;34m,\u001b[0m \u001b[0mX\u001b[0m\u001b[0;34m,\u001b[0m \u001b[0my\u001b[0m\u001b[0;34m,\u001b[0m \u001b[0mscore_func\u001b[0m\u001b[0;34m,\u001b[0m\u001b[0;34m\u001b[0m\u001b[0m\n\u001b[1;32m   1118\u001b[0m             train, test, verbose, fit_params)\n\u001b[0;32m-> 1119\u001b[0;31m         for train, test in cv)\n\u001b[0m\u001b[1;32m   1120\u001b[0m     \u001b[0;32mreturn\u001b[0m \u001b[0mnp\u001b[0m\u001b[0;34m.\u001b[0m\u001b[0marray\u001b[0m\u001b[0;34m(\u001b[0m\u001b[0mscores\u001b[0m\u001b[0;34m)\u001b[0m\u001b[0;34m\u001b[0m\u001b[0m\n\u001b[1;32m   1121\u001b[0m \u001b[0;34m\u001b[0m\u001b[0m\n",
        "\u001b[0;32m/Library/Python/2.7/site-packages/scikit_learn-0.13_git-py2.7-macosx-10.8-intel.egg/sklearn/externals/joblib/parallel.pyc\u001b[0m in \u001b[0;36m__call__\u001b[0;34m(self, iterable)\u001b[0m\n\u001b[1;32m    512\u001b[0m         \u001b[0;32mtry\u001b[0m\u001b[0;34m:\u001b[0m\u001b[0;34m\u001b[0m\u001b[0m\n\u001b[1;32m    513\u001b[0m             \u001b[0;32mfor\u001b[0m \u001b[0mfunction\u001b[0m\u001b[0;34m,\u001b[0m \u001b[0margs\u001b[0m\u001b[0;34m,\u001b[0m \u001b[0mkwargs\u001b[0m \u001b[0;32min\u001b[0m \u001b[0miterable\u001b[0m\u001b[0;34m:\u001b[0m\u001b[0;34m\u001b[0m\u001b[0m\n\u001b[0;32m--> 514\u001b[0;31m                 \u001b[0mself\u001b[0m\u001b[0;34m.\u001b[0m\u001b[0mdispatch\u001b[0m\u001b[0;34m(\u001b[0m\u001b[0mfunction\u001b[0m\u001b[0;34m,\u001b[0m \u001b[0margs\u001b[0m\u001b[0;34m,\u001b[0m \u001b[0mkwargs\u001b[0m\u001b[0;34m)\u001b[0m\u001b[0;34m\u001b[0m\u001b[0m\n\u001b[0m\u001b[1;32m    515\u001b[0m \u001b[0;34m\u001b[0m\u001b[0m\n\u001b[1;32m    516\u001b[0m             \u001b[0mself\u001b[0m\u001b[0;34m.\u001b[0m\u001b[0mretrieve\u001b[0m\u001b[0;34m(\u001b[0m\u001b[0;34m)\u001b[0m\u001b[0;34m\u001b[0m\u001b[0m\n",
        "\u001b[0;32m/Library/Python/2.7/site-packages/scikit_learn-0.13_git-py2.7-macosx-10.8-intel.egg/sklearn/externals/joblib/parallel.pyc\u001b[0m in \u001b[0;36mdispatch\u001b[0;34m(self, func, args, kwargs)\u001b[0m\n\u001b[1;32m    309\u001b[0m         \"\"\"\n\u001b[1;32m    310\u001b[0m         \u001b[0;32mif\u001b[0m \u001b[0mself\u001b[0m\u001b[0;34m.\u001b[0m\u001b[0m_pool\u001b[0m \u001b[0;32mis\u001b[0m \u001b[0mNone\u001b[0m\u001b[0;34m:\u001b[0m\u001b[0;34m\u001b[0m\u001b[0m\n\u001b[0;32m--> 311\u001b[0;31m             \u001b[0mjob\u001b[0m \u001b[0;34m=\u001b[0m \u001b[0mImmediateApply\u001b[0m\u001b[0;34m(\u001b[0m\u001b[0mfunc\u001b[0m\u001b[0;34m,\u001b[0m \u001b[0margs\u001b[0m\u001b[0;34m,\u001b[0m \u001b[0mkwargs\u001b[0m\u001b[0;34m)\u001b[0m\u001b[0;34m\u001b[0m\u001b[0m\n\u001b[0m\u001b[1;32m    312\u001b[0m             \u001b[0mindex\u001b[0m \u001b[0;34m=\u001b[0m \u001b[0mlen\u001b[0m\u001b[0;34m(\u001b[0m\u001b[0mself\u001b[0m\u001b[0;34m.\u001b[0m\u001b[0m_jobs\u001b[0m\u001b[0;34m)\u001b[0m\u001b[0;34m\u001b[0m\u001b[0m\n\u001b[1;32m    313\u001b[0m             \u001b[0;32mif\u001b[0m \u001b[0;32mnot\u001b[0m \u001b[0m_verbosity_filter\u001b[0m\u001b[0;34m(\u001b[0m\u001b[0mindex\u001b[0m\u001b[0;34m,\u001b[0m \u001b[0mself\u001b[0m\u001b[0;34m.\u001b[0m\u001b[0mverbose\u001b[0m\u001b[0;34m)\u001b[0m\u001b[0;34m:\u001b[0m\u001b[0;34m\u001b[0m\u001b[0m\n",
        "\u001b[0;32m/Library/Python/2.7/site-packages/scikit_learn-0.13_git-py2.7-macosx-10.8-intel.egg/sklearn/externals/joblib/parallel.pyc\u001b[0m in \u001b[0;36m__init__\u001b[0;34m(self, func, args, kwargs)\u001b[0m\n\u001b[1;32m    133\u001b[0m         \u001b[0;31m# Don't delay the application, to avoid keeping the input\u001b[0m\u001b[0;34m\u001b[0m\u001b[0;34m\u001b[0m\u001b[0m\n\u001b[1;32m    134\u001b[0m         \u001b[0;31m# arguments in memory\u001b[0m\u001b[0;34m\u001b[0m\u001b[0;34m\u001b[0m\u001b[0m\n\u001b[0;32m--> 135\u001b[0;31m         \u001b[0mself\u001b[0m\u001b[0;34m.\u001b[0m\u001b[0mresults\u001b[0m \u001b[0;34m=\u001b[0m \u001b[0mfunc\u001b[0m\u001b[0;34m(\u001b[0m\u001b[0;34m*\u001b[0m\u001b[0margs\u001b[0m\u001b[0;34m,\u001b[0m \u001b[0;34m**\u001b[0m\u001b[0mkwargs\u001b[0m\u001b[0;34m)\u001b[0m\u001b[0;34m\u001b[0m\u001b[0m\n\u001b[0m\u001b[1;32m    136\u001b[0m \u001b[0;34m\u001b[0m\u001b[0m\n\u001b[1;32m    137\u001b[0m     \u001b[0;32mdef\u001b[0m \u001b[0mget\u001b[0m\u001b[0;34m(\u001b[0m\u001b[0mself\u001b[0m\u001b[0;34m)\u001b[0m\u001b[0;34m:\u001b[0m\u001b[0;34m\u001b[0m\u001b[0m\n",
        "\u001b[0;32m/Library/Python/2.7/site-packages/scikit_learn-0.13_git-py2.7-macosx-10.8-intel.egg/sklearn/cross_validation.pyc\u001b[0m in \u001b[0;36m_cross_val_score\u001b[0;34m(estimator, X, y, score_func, train, test, verbose, fit_params)\u001b[0m\n\u001b[1;32m   1056\u001b[0m         \u001b[0mestimator\u001b[0m\u001b[0;34m.\u001b[0m\u001b[0mfit\u001b[0m\u001b[0;34m(\u001b[0m\u001b[0mX_train\u001b[0m\u001b[0;34m,\u001b[0m \u001b[0my\u001b[0m\u001b[0;34m[\u001b[0m\u001b[0mtrain\u001b[0m\u001b[0;34m]\u001b[0m\u001b[0;34m,\u001b[0m \u001b[0;34m**\u001b[0m\u001b[0mfit_params\u001b[0m\u001b[0;34m)\u001b[0m\u001b[0;34m\u001b[0m\u001b[0m\n\u001b[1;32m   1057\u001b[0m         \u001b[0;32mif\u001b[0m \u001b[0mscore_func\u001b[0m \u001b[0;32mis\u001b[0m \u001b[0mNone\u001b[0m\u001b[0;34m:\u001b[0m\u001b[0;34m\u001b[0m\u001b[0m\n\u001b[0;32m-> 1058\u001b[0;31m             \u001b[0mscore\u001b[0m \u001b[0;34m=\u001b[0m \u001b[0mestimator\u001b[0m\u001b[0;34m.\u001b[0m\u001b[0mscore\u001b[0m\u001b[0;34m(\u001b[0m\u001b[0mX_test\u001b[0m\u001b[0;34m,\u001b[0m \u001b[0my\u001b[0m\u001b[0;34m[\u001b[0m\u001b[0mtest\u001b[0m\u001b[0;34m]\u001b[0m\u001b[0;34m)\u001b[0m\u001b[0;34m\u001b[0m\u001b[0m\n\u001b[0m\u001b[1;32m   1059\u001b[0m         \u001b[0;32melse\u001b[0m\u001b[0;34m:\u001b[0m\u001b[0;34m\u001b[0m\u001b[0m\n\u001b[1;32m   1060\u001b[0m             \u001b[0mscore\u001b[0m \u001b[0;34m=\u001b[0m \u001b[0mscore_func\u001b[0m\u001b[0;34m(\u001b[0m\u001b[0my\u001b[0m\u001b[0;34m[\u001b[0m\u001b[0mtest\u001b[0m\u001b[0;34m]\u001b[0m\u001b[0;34m,\u001b[0m \u001b[0mestimator\u001b[0m\u001b[0;34m.\u001b[0m\u001b[0mpredict\u001b[0m\u001b[0;34m(\u001b[0m\u001b[0mX_test\u001b[0m\u001b[0;34m)\u001b[0m\u001b[0;34m)\u001b[0m\u001b[0;34m\u001b[0m\u001b[0m\n",
        "\u001b[0;32m/Library/Python/2.7/site-packages/scikit_learn-0.13_git-py2.7-macosx-10.8-intel.egg/sklearn/base.pyc\u001b[0m in \u001b[0;36mscore\u001b[0;34m(self, X, y)\u001b[0m\n\u001b[1;32m    270\u001b[0m \u001b[0;34m\u001b[0m\u001b[0m\n\u001b[1;32m    271\u001b[0m         \"\"\"\n\u001b[0;32m--> 272\u001b[0;31m         \u001b[0;32mreturn\u001b[0m \u001b[0mnp\u001b[0m\u001b[0;34m.\u001b[0m\u001b[0mmean\u001b[0m\u001b[0;34m(\u001b[0m\u001b[0mself\u001b[0m\u001b[0;34m.\u001b[0m\u001b[0mpredict\u001b[0m\u001b[0;34m(\u001b[0m\u001b[0mX\u001b[0m\u001b[0;34m)\u001b[0m \u001b[0;34m==\u001b[0m \u001b[0my\u001b[0m\u001b[0;34m)\u001b[0m\u001b[0;34m\u001b[0m\u001b[0m\n\u001b[0m\u001b[1;32m    273\u001b[0m \u001b[0;34m\u001b[0m\u001b[0m\n\u001b[1;32m    274\u001b[0m \u001b[0;34m\u001b[0m\u001b[0m\n",
        "\u001b[0;32m/Library/Python/2.7/site-packages/scikit_learn-0.13_git-py2.7-macosx-10.8-intel.egg/sklearn/neighbors/classification.pyc\u001b[0m in \u001b[0;36mpredict\u001b[0;34m(self, X)\u001b[0m\n\u001b[1;32m    129\u001b[0m         \u001b[0mX\u001b[0m \u001b[0;34m=\u001b[0m \u001b[0matleast2d_or_csr\u001b[0m\u001b[0;34m(\u001b[0m\u001b[0mX\u001b[0m\u001b[0;34m)\u001b[0m\u001b[0;34m\u001b[0m\u001b[0m\n\u001b[1;32m    130\u001b[0m \u001b[0;34m\u001b[0m\u001b[0m\n\u001b[0;32m--> 131\u001b[0;31m         \u001b[0mneigh_dist\u001b[0m\u001b[0;34m,\u001b[0m \u001b[0mneigh_ind\u001b[0m \u001b[0;34m=\u001b[0m \u001b[0mself\u001b[0m\u001b[0;34m.\u001b[0m\u001b[0mkneighbors\u001b[0m\u001b[0;34m(\u001b[0m\u001b[0mX\u001b[0m\u001b[0;34m)\u001b[0m\u001b[0;34m\u001b[0m\u001b[0m\n\u001b[0m\u001b[1;32m    132\u001b[0m         \u001b[0mpred_labels\u001b[0m \u001b[0;34m=\u001b[0m \u001b[0mself\u001b[0m\u001b[0;34m.\u001b[0m\u001b[0m_y\u001b[0m\u001b[0;34m[\u001b[0m\u001b[0mneigh_ind\u001b[0m\u001b[0;34m]\u001b[0m\u001b[0;34m\u001b[0m\u001b[0m\n\u001b[1;32m    133\u001b[0m \u001b[0;34m\u001b[0m\u001b[0m\n",
        "\u001b[0;32m/Library/Python/2.7/site-packages/scikit_learn-0.13_git-py2.7-macosx-10.8-intel.egg/sklearn/neighbors/base.pyc\u001b[0m in \u001b[0;36mkneighbors\u001b[0;34m(self, X, n_neighbors, return_distance)\u001b[0m\n\u001b[1;32m    250\u001b[0m         \u001b[0;32melif\u001b[0m \u001b[0mself\u001b[0m\u001b[0;34m.\u001b[0m\u001b[0m_fit_method\u001b[0m \u001b[0;34m==\u001b[0m \u001b[0;34m'ball_tree'\u001b[0m\u001b[0;34m:\u001b[0m\u001b[0;34m\u001b[0m\u001b[0m\n\u001b[1;32m    251\u001b[0m             result = self._tree.query(X, n_neighbors,\n\u001b[0;32m--> 252\u001b[0;31m                                       return_distance=return_distance)\n\u001b[0m\u001b[1;32m    253\u001b[0m             \u001b[0;32mif\u001b[0m \u001b[0mself\u001b[0m\u001b[0;34m.\u001b[0m\u001b[0mwarn_on_equidistant\u001b[0m \u001b[0;32mand\u001b[0m \u001b[0mself\u001b[0m\u001b[0;34m.\u001b[0m\u001b[0m_tree\u001b[0m\u001b[0;34m.\u001b[0m\u001b[0mwarning_flag\u001b[0m\u001b[0;34m:\u001b[0m\u001b[0;34m\u001b[0m\u001b[0m\n\u001b[1;32m    254\u001b[0m                 \u001b[0mwarn_equidistant\u001b[0m\u001b[0;34m(\u001b[0m\u001b[0;34m)\u001b[0m\u001b[0;34m\u001b[0m\u001b[0m\n",
        "\u001b[0;31mKeyboardInterrupt\u001b[0m: "
       ]
      },
      {
       "output_type": "stream",
       "stream": "stdout",
       "text": [
        " [ 0.33514986  0.3133515   0.31967213]\n",
        "Accuracy: 0.32 (+/- 0.00)\n"
       ]
      },
      {
       "output_type": "stream",
       "stream": "stderr",
       "text": [
        "/Library/Python/2.7/site-packages/scikit_learn-0.13_git-py2.7-macosx-10.8-intel.egg/sklearn/neighbors/classification.py:131: NeighborsWarning: kneighbors: neighbor k+1 and neighbor k have the same distance: results will be dependent on data order.\n",
        "  neigh_dist, neigh_ind = self.kneighbors(X)\n"
       ]
      }
     ],
     "prompt_number": 44
    },
    {
     "cell_type": "code",
     "collapsed": false,
     "input": [
      "\"\"\"\n",
      "Testing with Animal Shape Overlayed on noisy background\n",
      "=======================================================================================================================\n",
      "\"\"\"\n",
      "\n",
      "'''\n",
      "create noisy test set\n",
      "'''\n",
      "overlay    = Image.open(\"animals/trees.png\")\n",
      "overlay    = overlay.resize((500,500), Image.NEAREST)\n",
      "overlay    = overlay.convert(\"RGBA\")\n",
      "\n",
      "for eachFolder in glob.glob('animals/*'): \n",
      "    \n",
      "    count = 0\n",
      "    \n",
      "    for eachFile in glob.glob(eachFolder + '/*.tif'):\n",
      "        \n",
      "        #take the last 4 out of each folder for the test set\n",
      "        if (count > 95):\n",
      "            \n",
      "            background = Image.open(eachFile)\n",
      "            background = background.resize((500,500), Image.NEAREST)\n",
      "            background = background.convert(\"RGBA\")\n",
      "            \n",
      "            new_img    = Image.blend(background, overlay, 0.5) \n",
      "            new_img.save('animals/noisyTests/' + str(eachFile[8:10]) + str(count) + '.png',\"PNG\")\n",
      "    \n",
      "        count += 1       \n",
      "        \n",
      "    "
     ],
     "language": "python",
     "metadata": {},
     "outputs": [],
     "prompt_number": 47
    },
    {
     "cell_type": "code",
     "collapsed": false,
     "input": [
      "'''\n",
      "Samples of blended images\n",
      "'''\n",
      "totalNum = len(glob.glob('animals/noisyTests/*.png'))\n",
      "\n",
      "#calculate height based on width of 10 images\n",
      "width  = 10\n",
      "height = totalNum / 10 \n",
      "\n",
      "#create plot\n",
      "f, thumbs = plt.subplots(height,width)\n",
      "\n",
      "count = 0\n",
      "xPos = 0\n",
      "\n",
      "for eachFile in glob.glob('animals/noisyTests/*.png'): \n",
      "    \n",
      "    #im = open_image(eachFile)\n",
      "    im = Image.open(eachFile)\n",
      "    #resize it\n",
      "    im = im.resize((500,500), Image.NEAREST) \n",
      "\n",
      "    if (count % 10 == 0 and count != 0):\n",
      "        xPos += 1\n",
      "    yPos = count % width\n",
      "    \n",
      "    #fill in plot\n",
      "    thumbs[xPos][yPos].imshow(im).set_cmap('hot')\n",
      "    \n",
      "    #remove x and y axis ticks and labels\n",
      "    thumbs[xPos][yPos].xaxis.set_visible(False)\n",
      "    thumbs[xPos][yPos].yaxis.set_visible(False)\n",
      "    \n",
      "    count += 1\n",
      "   \n",
      "display()"
     ],
     "language": "python",
     "metadata": {},
     "outputs": [
      {
       "output_type": "display_data",
       "png": "[encoded data removed]",
       "text": [
        "<matplotlib.figure.Figure at 0x10abe8a50>"
       ]
      }
     ],
     "prompt_number": 61
    },
    {
     "cell_type": "code",
     "collapsed": false,
     "input": [
      "\"\"\"\n",
      "generate noisy test set\n",
      "\"\"\"\n",
      "\n",
      "testSetNoisy = []\n",
      "\n",
      "for eachFile in glob.glob('animals/noisyTests/*'):\n",
      "    testSetNoisy.append(resizeImage(eachFile))\n",
      "    \n",
      "'''\n",
      "flatten it\n",
      "'''\n",
      "\n",
      "\n",
      "testSetNoiseFlat = []\n",
      "\n",
      "for i in range(len(testSetNoisy)):\n",
      "    testSetNoiseFlat.append(train[i].flatten())\n",
      "    \n",
      "'''\n",
      "run it\n",
      "'''\n",
      "\n",
      "predictionsNaiveBayes = nb.predict(testSetNoiseFlat)\n",
      "print predictionsNaiveBayes"
     ],
     "language": "python",
     "metadata": {},
     "outputs": [
      {
       "output_type": "stream",
       "stream": "stdout",
       "text": [
        "[ 0  0  0  0  0  0  0  0  8  0  0  0  0  0  0  0  2  0  0  0  9 11  4  1 18\n",
        " 13  0  8  3  0  6  0  0  0  0  0  7  0  0  0  0  0  0  0  7  7  0  0  0 12\n",
        "  0  0  0  0  0  1  1  1  1  0 14 20  1  1 13  1  1  5  1 20  0  1 20  1  1\n",
        " 17  1  1 20  1 13  5  2 17  1  1 20  2  3 20]\n"
       ]
      }
     ],
     "prompt_number": 56
    },
    {
     "cell_type": "code",
     "collapsed": true,
     "input": [
      "checkSolutions(predictionsNaiveBayes,solutions)  \n",
      "\n",
      "#You have an accuracy of 0.069444!\n",
      "#noise seems to remove all accuracy"
     ],
     "language": "python",
     "metadata": {},
     "outputs": [
      {
       "output_type": "stream",
       "stream": "stdout",
       "text": [
        "Predicted butterfly to be a bird\n",
        "Predicted butterfly to be a bird\n",
        "Predicted butterfly to be a bird\n",
        "Predicted butterfly to be a bird\n",
        "Predicted cat to be a duck\n",
        "Predicted cat to be a bird\n",
        "Predicted cat to be a bird\n",
        "Predicted cat to be a bird\n",
        "Predicted cow to be a bird\n",
        "Predicted cow to be a bird\n",
        "Predicted cow to be a bird\n",
        "Predicted cow to be a bird\n",
        "Predicted crocodile to be a cat\n",
        "Predicted crocodile to be a bird\n",
        "Predicted crocodile to be a bird\n",
        "Predicted crocodile to be a bird\n",
        "Predicted deer to be a elephant\n",
        "Predicted deer to be a flyingbird\n",
        "Predicted deer to be a crocodile\n",
        "Predicted deer to be a butterfly\n",
        "Predicted dog to be a rat\n",
        "Predicted dog to be a horse\n",
        "Predicted dog to be a bird\n",
        "Predicted dog to be a duck\n",
        "Predicted dolphin to be a cow\n",
        "Predicted dolphin to be a bird\n",
        "Predicted dolphin to be a dog\n",
        "Predicted dolphin to be a bird\n",
        "Predicted duck to be a bird\n",
        "Predicted duck to be a bird\n",
        "Predicted duck to be a bird\n",
        "Predicted duck to be a bird\n",
        "Predicted elephant to be a dolphin\n",
        "Predicted elephant to be a bird\n",
        "Predicted elephant to be a bird\n",
        "Predicted elephant to be a bird\n",
        "Predicted fish to be a bird\n",
        "Predicted fish to be a bird\n",
        "Predicted fish to be a bird\n",
        "Predicted fish to be a bird\n",
        "Predicted flyingbird to be a dolphin\n",
        "Predicted flyingbird to be a dolphin\n",
        "Predicted flyingbird to be a bird\n",
        "Predicted flyingbird to be a bird\n",
        "Predicted hen to be a bird\n",
        "Predicted hen to be a bird\n",
        "Predicted hen to be a bird\n",
        "Predicted horse to be a bird\n",
        "Predicted horse to be a bird\n",
        "Predicted horse to be a bird\n",
        "Predicted horse to be a butterfly\n",
        "Predicted leopard to be a butterfly\n",
        "Predicted leopard to be a butterfly\n",
        "Predicted leopard to be a butterfly\n",
        "Predicted leopard to be a bird\n",
        "Predicted monkey to be a leopard\n",
        "Predicted monkey to be a tortoise\n",
        "Predicted monkey to be a butterfly\n",
        "Predicted monkey to be a butterfly\n",
        "Predicted rabbit to be a horse\n",
        "Predicted rabbit to be a butterfly\n",
        "Predicted rabbit to be a butterfly\n",
        "Predicted rabbit to be a deer\n",
        "Predicted rat to be a butterfly\n",
        "Predicted rat to be a tortoise\n",
        "Predicted rat to be a bird\n",
        "Predicted rat to be a butterfly\n",
        "5\n",
        "72\n",
        "You have an accuracy of 0.069444!\n"
       ]
      }
     ],
     "prompt_number": 57
    },
    {
     "cell_type": "code",
     "collapsed": true,
     "input": [
      "predictionsRandomForests = rf.predict(testSetNoiseFlat)\n",
      "checkSolutions(predictionsRandomForests,solutions)\n",
      "\n",
      "#You have an accuracy of 0.055556!\n",
      "#Random forest does no better"
     ],
     "language": "python",
     "metadata": {},
     "outputs": [
      {
       "output_type": "stream",
       "stream": "stdout",
       "text": [
        "Predicted butterfly to be a bird\n",
        "Predicted butterfly to be a bird\n",
        "Predicted butterfly to be a bird\n",
        "Predicted butterfly to be a bird\n",
        "Predicted cat to be a bird\n",
        "Predicted cat to be a bird\n",
        "Predicted cat to be a bird\n",
        "Predicted cat to be a bird\n",
        "Predicted cow to be a bird\n",
        "Predicted cow to be a bird\n",
        "Predicted cow to be a bird\n",
        "Predicted cow to be a bird\n",
        "Predicted crocodile to be a bird\n",
        "Predicted crocodile to be a bird\n",
        "Predicted crocodile to be a bird\n",
        "Predicted crocodile to be a bird\n",
        "Predicted deer to be a bird\n",
        "Predicted deer to be a bird\n",
        "Predicted deer to be a bird\n",
        "Predicted deer to be a bird\n",
        "Predicted dog to be a bird\n",
        "Predicted dog to be a bird\n",
        "Predicted dog to be a bird\n",
        "Predicted dog to be a bird\n",
        "Predicted dolphin to be a bird\n",
        "Predicted dolphin to be a bird\n",
        "Predicted dolphin to be a bird\n",
        "Predicted dolphin to be a bird\n",
        "Predicted duck to be a bird\n",
        "Predicted duck to be a bird\n",
        "Predicted duck to be a bird\n",
        "Predicted duck to be a bird\n",
        "Predicted elephant to be a bird\n",
        "Predicted elephant to be a bird\n",
        "Predicted elephant to be a bird\n",
        "Predicted elephant to be a bird\n",
        "Predicted fish to be a bird\n",
        "Predicted fish to be a bird\n",
        "Predicted fish to be a bird\n",
        "Predicted fish to be a bird\n",
        "Predicted flyingbird to be a bird\n",
        "Predicted flyingbird to be a bird\n",
        "Predicted flyingbird to be a bird\n",
        "Predicted flyingbird to be a bird\n",
        "Predicted hen to be a bird\n",
        "Predicted hen to be a bird\n",
        "Predicted hen to be a bird\n",
        "Predicted hen to be a bird\n",
        "Predicted horse to be a bird\n",
        "Predicted horse to be a bird\n",
        "Predicted horse to be a bird\n",
        "Predicted horse to be a butterfly\n",
        "Predicted leopard to be a butterfly\n",
        "Predicted leopard to be a butterfly\n",
        "Predicted leopard to be a butterfly\n",
        "Predicted leopard to be a butterfly\n",
        "Predicted monkey to be a butterfly\n",
        "Predicted monkey to be a butterfly\n",
        "Predicted monkey to be a butterfly\n",
        "Predicted monkey to be a butterfly\n",
        "Predicted rabbit to be a butterfly\n",
        "Predicted rabbit to be a butterfly\n",
        "Predicted rabbit to be a butterfly\n",
        "Predicted rabbit to be a butterfly\n",
        "Predicted rat to be a butterfly\n",
        "Predicted rat to be a butterfly\n",
        "Predicted rat to be a butterfly\n",
        "Predicted rat to be a butterfly\n",
        "4\n",
        "72\n",
        "You have an accuracy of 0.055556!\n"
       ]
      }
     ],
     "prompt_number": 59
    },
    {
     "cell_type": "code",
     "collapsed": false,
     "input": [
      "predictionsKNN_Noise = knn.predict(testSetNoiseFlat)\n",
      "checkSolutions(predictionsKNN_Noise[0:80],solutions) \n",
      "#remove last 10, KNN added after noisy images were added into a new folder which affects the\n",
      "#training data since it goes through each folder\n",
      "\n",
      "#You have an accuracy of 0.050000!\n",
      "\n",
      "#results dismal across all 3 classifiers"
     ],
     "language": "python",
     "metadata": {},
     "outputs": [
      {
       "output_type": "stream",
       "stream": "stdout",
       "text": [
        "Predicted bird to be a hen\n",
        "Predicted butterfly to be a bird\n",
        "Predicted butterfly to be a bird\n",
        "Predicted butterfly to be a bird\n",
        "Predicted butterfly to be a bird\n",
        "Predicted cat to be a bird\n",
        "Predicted cat to be a bird\n",
        "Predicted cat to be a flyingbird\n",
        "Predicted cat to be a bird\n",
        "Predicted cow to be a bird\n",
        "Predicted cow to be a bird\n",
        "Predicted cow to be a bird\n",
        "Predicted cow to be a bird\n",
        "Predicted crocodile to be a bird\n",
        "Predicted crocodile to be a dolphin\n",
        "Predicted crocodile to be a bird\n",
        "Predicted crocodile to be a spider\n",
        "Predicted deer to be a bird\n",
        "Predicted deer to be a dog\n",
        "Predicted deer to be a bird\n",
        "Predicted deer to be a bird\n",
        "Predicted dog to be a bird\n",
        "Predicted dog to be a bird\n",
        "Predicted dog to be a bird\n",
        "Predicted dog to be a cat\n",
        "Predicted dolphin to be a bird\n",
        "Predicted dolphin to be a bird\n",
        "Predicted dolphin to be a bird\n",
        "Predicted dolphin to be a bird\n",
        "Predicted duck to be a bird\n",
        "Predicted duck to be a bird\n",
        "Predicted duck to be a bird\n",
        "Predicted duck to be a bird\n",
        "Predicted elephant to be a bird\n",
        "Predicted elephant to be a bird\n",
        "Predicted elephant to be a bird\n",
        "Predicted elephant to be a bird\n",
        "Predicted fish to be a bird\n",
        "Predicted fish to be a bird\n",
        "Predicted fish to be a bird\n",
        "Predicted fish to be a bird\n",
        "Predicted flyingbird to be a dolphin\n",
        "Predicted flyingbird to be a bird\n",
        "Predicted flyingbird to be a bird\n",
        "Predicted flyingbird to be a bird\n",
        "Predicted hen to be a bird\n",
        "Predicted hen to be a bird\n",
        "Predicted hen to be a bird\n",
        "Predicted horse to be a bird\n",
        "Predicted horse to be a bird\n",
        "Predicted horse to be a bird\n",
        "Predicted horse to be a butterfly\n",
        "Predicted leopard to be a butterfly\n",
        "Predicted leopard to be a butterfly\n",
        "Predicted leopard to be a butterfly\n",
        "Predicted leopard to be a rat\n",
        "Predicted monkey to be a hen\n",
        "Predicted monkey to be a butterfly\n",
        "Predicted monkey to be a butterfly\n",
        "Predicted monkey to be a butterfly\n",
        "Predicted rabbit to be a bird\n",
        "Predicted rabbit to be a butterfly\n",
        "Predicted rabbit to be a butterfly\n",
        "Predicted rabbit to be a butterfly\n",
        "Predicted rat to be a butterfly\n",
        "Predicted rat to be a butterfly\n",
        "Predicted rat to be a bird\n",
        "Predicted rat to be a butterfly\n",
        "Predicted spider to be a butterfly\n",
        "Predicted spider to be a butterfly\n",
        "Predicted spider to be a butterfly\n",
        "Predicted spider to be a butterfly\n",
        "Predicted tortoise to be a butterfly\n",
        "Predicted tortoise to be a hen\n",
        "Predicted tortoise to be a butterfly\n",
        "Predicted tortoise to be a butterfly\n",
        "4\n",
        "80\n",
        "You have an accuracy of 0.050000!\n"
       ]
      }
     ],
     "prompt_number": 51
    },
    {
     "cell_type": "code",
     "collapsed": false,
     "input": [
      "\"\"\"\n",
      "Results:\n",
      "================\n",
      "\n",
      "Cross validation gives an accuracy of around 30% for each classifier (Naive Bayes, Random Forest, and KNN)\n",
      "Which is a 25% increase from a 5% prior.\n",
      "\n",
      "Upon blending images with noise, the accuracy drops back down to 5%. Seemingly indicating that the training\n",
      "had little to no value.\n",
      "\n",
      "Continuation of this project may involve blending in the noisy data with the ideal data in different proportions\n",
      "and gauging the effect as well as combining all 3 classifiers with boosting. More advanced/specific classifiers\n",
      "may have given different results.\n",
      "\n",
      "Analogy:\n",
      "=================\n",
      "\n",
      "Properly trained people need GOOD examples. If the examples are not indicative of the real world\n",
      "then training is pointless. Proper real world usage cannot be implied from idealized first principles.\n",
      "\n",
      "Which fits in perfectly with Cornell Tech's philosophy.\n",
      "'''"
     ],
     "language": "python",
     "metadata": {},
     "outputs": []
    }
   ],
   "metadata": {}
  }
 ]
}